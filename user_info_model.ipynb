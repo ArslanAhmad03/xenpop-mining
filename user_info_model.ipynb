{
  "cells": [
    {
      "cell_type": "markdown",
      "metadata": {
        "id": "view-in-github",
        "colab_type": "text"
      },
      "source": [
        "<a href=\"https://colab.research.google.com/github/ArslanAhmad03/xenpop-mining/blob/master/user_info_model.ipynb\" target=\"_parent\"><img src=\"https://colab.research.google.com/assets/colab-badge.svg\" alt=\"Open In Colab\"/></a>"
      ]
    },
    {
      "cell_type": "code",
      "source": [
        "import json\n",
        "import random\n",
        "from faker import Faker\n",
        "import os\n",
        "\n",
        "fake = Faker()\n",
        "\n",
        "# generate 1000 dummy users\n",
        "users = []\n",
        "for i in range(1, 1001):\n",
        "    users.append({\n",
        "        \"id\": i,\n",
        "        \"first_name\": fake.first_name(),\n",
        "        \"last_name\": fake.last_name(),\n",
        "        \"email\": fake.email(),\n",
        "        \"phone\": fake.phone_number(),\n",
        "        \"dob\": str(fake.date_of_birth(minimum_age=18, maximum_age=50))\n",
        "    })\n",
        "\n",
        "# save to JSON file\n",
        "directory = \"/mnt/data/\"\n",
        "if not os.path.exists(directory):\n",
        "    os.makedirs(directory)\n",
        "\n",
        "file_path = os.path.join(directory, \"dummy_users_1000.json\")\n",
        "with open(file_path, \"w\") as f:\n",
        "    json.dump(users, f, indent=2)\n",
        "\n",
        "file_path"
      ],
      "metadata": {
        "id": "nv0b5tKOBAdn",
        "colab": {
          "base_uri": "https://localhost:8080/",
          "height": 36
        },
        "outputId": "cde77678-f2f8-4510-e878-aa96286e136b"
      },
      "execution_count": 5,
      "outputs": [
        {
          "output_type": "execute_result",
          "data": {
            "text/plain": [
              "'/mnt/data/dummy_users_1000.json'"
            ],
            "application/vnd.google.colaboratory.intrinsic+json": {
              "type": "string"
            }
          },
          "metadata": {},
          "execution_count": 5
        }
      ]
    }
  ],
  "metadata": {
    "colab": {
      "provenance": [],
      "authorship_tag": "ABX9TyNgWNtzH9eFKGQ2WHBhp1xb",
      "include_colab_link": true
    },
    "kernelspec": {
      "display_name": "Python 3",
      "name": "python3"
    },
    "language_info": {
      "name": "python"
    }
  },
  "nbformat": 4,
  "nbformat_minor": 0
}